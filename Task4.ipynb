{
 "cells": [
  {
   "cell_type": "code",
   "execution_count": 28,
   "id": "11bfb40a",
   "metadata": {},
   "outputs": [
    {
     "data": {
      "image/png": "[encoded data removed]",
      "text/plain": [
       "<Figure size 640x480 with 1 Axes>"
      ]
     },
     "metadata": {},
     "output_type": "display_data"
    }
   ],
   "source": [
    "import pandas as pd\n",
    "import matplotlib.pyplot as plt\n",
    "\n",
    "df = pd.read_csv('Task 3 and 4_Loan_Data.csv')\n",
    "fico = df['fico_score']\n",
    "\n",
    "#max fico score 850 and min is 408\n",
    "#mean is 638\n",
    "\n",
    "#buckets that go in increments of 50\n",
    "bins = [300, 579, 669, 739, 800, 850]\n",
    "bin_names = ['Poor', 'Fair', 'Good', 'Very Good', 'Excellent']\n",
    "\n",
    "midpoints = []\n",
    "for i in range(len(bins) - 1):\n",
    "    midpoints.append(((bins[i] + bins[i+1]) / 2))\n",
    "\n",
    "plt.hist(fico, bins=bins, rwidth = 0.8)\n",
    "plt.xticks(midpoints, labels = bin_names, rotation = 90)\n",
    "\n",
    "poor = []\n",
    "fair = []\n",
    "good = []\n",
    "very_good = []\n",
    "excellent = []\n",
    "\n",
    "for i in  fico:\n",
    "    if i < 579:\n",
    "        poor.append(i)\n",
    "    elif i >= 579 and i < 669:\n",
    "        fair.append(i)\n",
    "    elif i >= 669 and i < 739:\n",
    "        good.append(i)\n",
    "    elif i >= 739 and i < 800:\n",
    "        very_good.append(i)\n",
    "    else:\n",
    "        excellent.append(i)"
   ]
  },
  {
   "cell_type": "code",
   "execution_count": 41,
   "id": "69ca5ab9",
   "metadata": {},
   "outputs": [
    {
     "data": {
      "text/plain": [
       "838.1496751715999"
      ]
     },
     "execution_count": 41,
     "metadata": {},
     "output_type": "execute_result"
    }
   ],
   "source": [
    "#mean squared error\n",
    "mse_poor = 0\n",
    "mean_poor = np.mean(poor)\n",
    "\n",
    "for i in poor:\n",
    "    mse_poor += (i - mean_poor)**2\n",
    "\n",
    "mse_poor = mse_poor/len(poor)\n",
    "\n",
    "\n",
    "mse_fair = 0\n",
    "mean_fair = np.mean(fair)\n",
    "\n",
    "for i in fair:\n",
    "    mse_fair += (i - mean_fair)**2\n",
    "\n",
    "mse_fair = mse_fair/len(fair)\n",
    "\n",
    "\n",
    "mse_good = 0\n",
    "mean_good = np.mean(good)\n",
    "\n",
    "for i in good:\n",
    "    mse_good += (i - mean_good)**2\n",
    "\n",
    "mse_good = mse_good/len(good)\n",
    "\n",
    "\n",
    "mse_very_good = 0\n",
    "mean_very_good = np.mean(very_good)\n",
    "\n",
    "for i in very_good:\n",
    "    mse_very_good += (i - mean_very_good)**2\n",
    "\n",
    "mse_very_good = mse_very_good/len(very_good)\n",
    "\n",
    "\n",
    "mse_excellent = 0\n",
    "mean_excellent = np.mean(excellent)\n",
    "\n",
    "for i in excellent:\n",
    "    mse_excellent += (i - mean_excellent)**2\n",
    "\n",
    "mse_excellent = mse_excellent/len(excellent)"
   ]
  },
  {
   "cell_type": "code",
   "execution_count": 44,
   "id": "d1cb54c3",
   "metadata": {},
   "outputs": [
    {
     "name": "stdout",
     "output_type": "stream",
     "text": [
      "Enter your fico score to get a rating: 500\n",
      "Your rating is 838.1496751715999\n"
     ]
    }
   ],
   "source": [
    "fico_check = int(input(\"Enter your fico score to get a rating: \"))\n",
    "\n",
    "if fico_check < 579:\n",
    "    print(\"Your rating is \" + str(mse_poor))\n",
    "elif fico_check >= 579 and fico_check < 669:\n",
    "    print(\"Your rating is \" + str(mse_fair))\n",
    "elif fico_check >= 669 and fico_check < 739:\n",
    "    print(\"Your rating is \" + str(mse_good))\n",
    "elif fico_check >= 739 and fico_check < 800:\n",
    "    print(\"Your rating is \" + str(mse_very_good))\n",
    "else:\n",
    "    print(\"Your rating is \" + str(mse_excellent))"
   ]
  },
  {
   "cell_type": "code",
   "execution_count": null,
   "id": "4fb5f076",
   "metadata": {},
   "outputs": [],
   "source": []
  }
 ],
 "metadata": {
  "kernelspec": {
   "display_name": "Python 3 (ipykernel)",
   "language": "python",
   "name": "python3"
  },
  "language_info": {
   "codemirror_mode": {
    "name": "ipython",
    "version": 3
   },
   "file_extension": ".py",
   "mimetype": "text/x-python",
   "name": "python",
   "nbconvert_exporter": "python",
   "pygments_lexer": "ipython3",
   "version": "3.11.4"
  }
 },
 "nbformat": 4,
 "nbformat_minor": 5
}
